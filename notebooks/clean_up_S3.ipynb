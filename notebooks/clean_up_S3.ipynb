{
 "metadata": {
  "name": ""
 },
 "nbformat": 3,
 "nbformat_minor": 0,
 "worksheets": [
  {
   "cells": [
    {
     "cell_type": "markdown",
     "metadata": {},
     "source": [
      "https://www.pivotaltracker.com/story/show/64618032\n",
      "\n",
      "Problem: lots of files, both production and test files on unglueit_files/ebf -- the bucket set aside for EbookFiles.  We should store production files separately."
     ]
    },
    {
     "cell_type": "code",
     "collapsed": false,
     "input": [
      "from regluit.core.models import EbookFile"
     ],
     "language": "python",
     "metadata": {},
     "outputs": [],
     "prompt_number": 1
    },
    {
     "cell_type": "code",
     "collapsed": false,
     "input": [
      "ebookfile_names = [e.file.name for e in EbookFile.objects.all()]\n",
      "ebookfile_names"
     ],
     "language": "python",
     "metadata": {},
     "outputs": [
      {
       "metadata": {},
       "output_type": "pyout",
       "prompt_number": 2,
       "text": [
        "[u'ebf/86.0.epub',\n",
        " u'ebf/201874.0.epub',\n",
        " u'ebf/201874.1.epub',\n",
        " u'ebf/201874.2.epub',\n",
        " u'ebf/201874.3.epub',\n",
        " u'ebf/05847a930446fea6c6b5f594542f82a2.epub',\n",
        " u'ebf/edfa4e0e8e450594b01121b8cec0639c.mobi',\n",
        " u'ebf/5a8166e6437b1be2767e30e3e9e40fa3.epub']"
       ]
      }
     ],
     "prompt_number": 2
    },
    {
     "cell_type": "code",
     "collapsed": false,
     "input": [
      "# how to read off the files in the bucket -- using boto and/or the Django file API.\n",
      "# remember how to use storages.backends.s3boto.S3BotoStorage\n",
      "\n",
      "from django.core.files.storage import default_storage\n",
      "from django.core.files.base import ContentFile\n",
      "from django.core.cache import cache\n",
      "\n",
      "default_storage.exists('ebf/86.0.epub')"
     ],
     "language": "python",
     "metadata": {},
     "outputs": [
      {
       "metadata": {},
       "output_type": "pyout",
       "prompt_number": 3,
       "text": [
        "True"
       ]
      }
     ],
     "prompt_number": 3
    },
    {
     "cell_type": "code",
     "collapsed": false,
     "input": [
      "# how to read off a list of files from default_storage?\n",
      "all_names = [\"ebf/\" + name for name in default_storage.listdir('ebf')[1]]\n",
      "all_names"
     ],
     "language": "python",
     "metadata": {},
     "outputs": [
      {
       "metadata": {},
       "output_type": "pyout",
       "prompt_number": 4,
       "text": [
        "[u'ebf/02534eb581a826c26e2fa2f41da87458.epub',\n",
        " u'ebf/03e17bb7b05a6b45529d7f75a881091a.epub',\n",
        " u'ebf/05847a930446fea6c6b5f594542f82a2.epub',\n",
        " u'ebf/1.0.epub',\n",
        " u'ebf/158046.0.epub',\n",
        " u'ebf/1dbf1801b695bd11504b070f98858e5a.epub',\n",
        " u'ebf/1f2827b8034983da130e1bc9265c2405.epub',\n",
        " u'ebf/201874.0.epub',\n",
        " u'ebf/201874.1.epub',\n",
        " u'ebf/201874.2.epub',\n",
        " u'ebf/201874.3.epub',\n",
        " u'ebf/240.0.epub',\n",
        " u'ebf/242.0.epub',\n",
        " u'ebf/242.8.epub',\n",
        " u'ebf/26db7d119dd0f983d11ae49a4f68c484.mobi',\n",
        " u'ebf/2d7d9cb814a2397221c588f67422d556.epub',\n",
        " u'ebf/3.0.epub',\n",
        " u'ebf/32e11494d7e61da15418d9ab1fce34ef.epub',\n",
        " u'ebf/33f9526a5e94a93399da634f41af7620.epub',\n",
        " u'ebf/3a6975c926cb17611bf2d2a76f3793a7.mobi',\n",
        " u'ebf/5.0.epub',\n",
        " u'ebf/533568cf042f70aefe22efa645405dad.epub',\n",
        " u'ebf/533568cf042f70aefe22efa645405dad.mobi',\n",
        " u'ebf/59503.16.epub',\n",
        " u'ebf/59503.17.epub',\n",
        " u'ebf/59503.18.epub',\n",
        " u'ebf/59503.19.epub',\n",
        " u'ebf/59503.20.epub',\n",
        " u'ebf/59503.21.epub',\n",
        " u'ebf/59503.22.epub',\n",
        " u'ebf/59503.23.epub',\n",
        " u'ebf/5a8166e6437b1be2767e30e3e9e40fa3.epub',\n",
        " u'ebf/679.0.epub',\n",
        " u'ebf/731.0.epub',\n",
        " u'ebf/732.0.epub',\n",
        " u'ebf/733.0.epub',\n",
        " u'ebf/734.0.epub',\n",
        " u'ebf/7943f283b6e5d4c0d9c9ff4446461a02.mobi',\n",
        " u'ebf/849e90d551a057f6ccacf28c526f7474.epub',\n",
        " u'ebf/86.0.epub',\n",
        " u'ebf/92bb51c6b76608e299ece2d415a7c54a.epub',\n",
        " u'ebf/94abb033a25a24c51582fdc41caa3577.epub',\n",
        " u'ebf/9a80729c0157c384378bb2985cac4b06.epub',\n",
        " u'ebf/ab4908b3e65a7539bce98ff06ac45a1d.epub',\n",
        " u'ebf/b01f43e74619f586548482ce52554c9e.epub',\n",
        " u'ebf/b0616cb20ce5fe2ca62bd0156d59f9ef.epub',\n",
        " u'ebf/b3ba035320117241d0cf792926cbb7a8.mobi',\n",
        " u'ebf/b5d47aca2aac366bc97b8b5f98351647.epub',\n",
        " u'ebf/b9d3662aaa123d5616b436c9a9dcda6a.mobi',\n",
        " u'ebf/c05c37d1e22000197c703fa5e0016a28.epub',\n",
        " u'ebf/c1a498748c81bcce8521edc856747f69.mobi',\n",
        " u'ebf/c30ef87ed17a81973b6c27276047ea41.epub',\n",
        " u'ebf/c4d647e9c41cfcda90ddf3a1b31571de.epub',\n",
        " u'ebf/d0875b258ef21c2ff463584da879ae9b.epub',\n",
        " u'ebf/d39e301a6505a5dc16f4e84e8d102fb1.epub',\n",
        " u'ebf/d64431b7cdd0d8e5b7fb91fddb556c74.mobi',\n",
        " u'ebf/db0397fb1d276b5c19b4efbdf37a21be.epub',\n",
        " u'ebf/df8947ddc65d007a4230288cbcfcf64d.epub',\n",
        " u'ebf/e230fb5b5d0403e723c41023726d4e10.epub',\n",
        " u'ebf/e3350c7b5efb44ea4ac848835dd23ec1.mobi',\n",
        " u'ebf/ea73b77bf798aabbb04169ce42dbbcb4.epub',\n",
        " u'ebf/edfa4e0e8e450594b01121b8cec0639c.mobi',\n",
        " u'ebf/efde73bb0d85364f2ee52d5a0b9f3ad4.epub',\n",
        " u'ebf/f4e3a57d3ed6f49fc9d7a6960f462d65.epub']"
       ]
      }
     ],
     "prompt_number": 4
    },
    {
     "cell_type": "code",
     "collapsed": false,
     "input": [
      "len(all_names), len(ebookfile_names), len(set(all_names) - set(ebookfile_names))"
     ],
     "language": "python",
     "metadata": {},
     "outputs": [
      {
       "metadata": {},
       "output_type": "pyout",
       "prompt_number": 5,
       "text": [
        "(64, 8, 56)"
       ]
      }
     ],
     "prompt_number": 5
    }
   ],
   "metadata": {}
  }
 ]
}